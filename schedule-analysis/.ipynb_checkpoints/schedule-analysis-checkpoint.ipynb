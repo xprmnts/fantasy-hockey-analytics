{
 "cells": [
  {
   "cell_type": "code",
   "execution_count": 1,
   "metadata": {
    "collapsed": true
   },
   "outputs": [],
   "source": [
    "import csv\n",
    "import datetime as DT\n",
    "import numpy as np\n",
    "import pandas as pd"
   ]
  },
  {
   "cell_type": "code",
   "execution_count": 2,
   "metadata": {
    "collapsed": true
   },
   "outputs": [],
   "source": [
    "fmt = '%Y.%m.%d'\n",
    "with open('sched_teams.csv', 'r') as f:\n",
    "    reader = csv.reader(f)\n",
    "    date_game_records = list(reader)"
   ]
  },
  {
   "cell_type": "code",
   "execution_count": 3,
   "metadata": {
    "collapsed": true
   },
   "outputs": [],
   "source": [
    "list_of_all_teams = []\n",
    "for record in date_game_records:\n",
    "  for element in record:\n",
    "    if element != '' and element not in list_of_all_teams and element[-1].isalpha():\n",
    "      list_of_all_teams.append(element)"
   ]
  },
  {
   "cell_type": "code",
   "execution_count": 4,
   "metadata": {
    "collapsed": true
   },
   "outputs": [],
   "source": [
    "#list_of_all_teams"
   ]
  },
  {
   "cell_type": "code",
   "execution_count": 5,
   "metadata": {
    "collapsed": true
   },
   "outputs": [],
   "source": [
    "datelist = pd.date_range(\"2017-10-15\", periods=174).tolist()"
   ]
  },
  {
   "cell_type": "code",
   "execution_count": 6,
   "metadata": {
    "collapsed": true
   },
   "outputs": [],
   "source": [
    "dates = list((dobj.date().strftime('%Y-%m-%d') for dobj in datelist))"
   ]
  },
  {
   "cell_type": "code",
   "execution_count": 7,
   "metadata": {
    "collapsed": true
   },
   "outputs": [],
   "source": [
    "df = pd.DataFrame(index=list_of_all_teams, columns=dates)"
   ]
  },
  {
   "cell_type": "code",
   "execution_count": 8,
   "metadata": {
    "collapsed": true
   },
   "outputs": [],
   "source": [
    "def date_conv(day):\n",
    "  # Oct = 10\n",
    "  if day[1:2] == 'O':\n",
    "    if day[-2:-1] == ' ':\n",
    "      ds = \"2017-10-0{}\".format(day[-1:])\n",
    "    else:\n",
    "      ds = \"2017-10-{}\".format(day[-2:])\n",
    "  # Nov = 11\n",
    "  if day[1:2] == 'N':\n",
    "    if day[-2:-1] == ' ':\n",
    "      ds = \"2017-11-0{}\".format(day[-1:])\n",
    "    else:\n",
    "      ds = \"2017-11-{}\".format(day[-2:])\n",
    "  # Dec = 12\n",
    "  if day[1:2] == 'D':\n",
    "    if day[-2:-1] == ' ':\n",
    "      ds = \"2017-12-0{}\".format(day[-1:])\n",
    "    else:\n",
    "      ds = \"2017-12-{}\".format(day[-2:])\n",
    "  # Jan = 01\n",
    "  if day[1:2] == 'J':\n",
    "    if day[-2:-1] == ' ':\n",
    "      ds = \"2018-01-0{}\".format(day[-1:])\n",
    "    else:\n",
    "      ds = \"2018-01-{}\".format(day[-2:])\n",
    "  # Feb = 02\n",
    "  if day[1:2] == 'F':\n",
    "    if day[-2:-1] == ' ':\n",
    "      ds = \"2018-02-0{}\".format(day[-1:])\n",
    "    else:\n",
    "      ds = \"2018-02-{}\".format(day[-2:])\n",
    "  # Mar = 03\n",
    "  if day[1:2] == 'M':\n",
    "    if day[-2:-1] == ' ':\n",
    "      ds = \"2018-03-0{}\".format(day[-1:])\n",
    "    else:\n",
    "      ds = \"2018-03-{}\".format(day[-2:])\n",
    "  # Apr = 04\n",
    "  if day[1:2] == 'A':\n",
    "    if day[-2:-1] == ' ':\n",
    "      ds = \"2018-04-0{}\".format(day[-1:])\n",
    "    else:\n",
    "      ds = \"2018-04-{}\".format(day[-2:])\n",
    "  return ds\n",
    "  "
   ]
  },
  {
   "cell_type": "code",
   "execution_count": 9,
   "metadata": {
    "collapsed": true
   },
   "outputs": [],
   "source": [
    "for record in date_game_records:\n",
    "    for element in record:\n",
    "        if element in list_of_all_teams:\n",
    "            df.loc[element, date_conv(record[0])] = 1"
   ]
  },
  {
   "cell_type": "code",
   "execution_count": 10,
   "metadata": {},
   "outputs": [
    {
     "data": {
      "text/html": [
       "<div>\n",
       "<style>\n",
       "    .dataframe thead tr:only-child th {\n",
       "        text-align: right;\n",
       "    }\n",
       "\n",
       "    .dataframe thead th {\n",
       "        text-align: left;\n",
       "    }\n",
       "\n",
       "    .dataframe tbody tr th {\n",
       "        vertical-align: top;\n",
       "    }\n",
       "</style>\n",
       "<table border=\"1\" class=\"dataframe\">\n",
       "  <thead>\n",
       "    <tr style=\"text-align: right;\">\n",
       "      <th></th>\n",
       "      <th>2017-10-15</th>\n",
       "      <th>2017-10-16</th>\n",
       "      <th>2017-10-17</th>\n",
       "      <th>2017-10-18</th>\n",
       "      <th>2017-10-19</th>\n",
       "      <th>2017-10-20</th>\n",
       "      <th>2017-10-21</th>\n",
       "      <th>2017-10-22</th>\n",
       "      <th>2017-10-23</th>\n",
       "      <th>2017-10-24</th>\n",
       "      <th>...</th>\n",
       "      <th>2018-03-29</th>\n",
       "      <th>2018-03-30</th>\n",
       "      <th>2018-03-31</th>\n",
       "      <th>2018-04-01</th>\n",
       "      <th>2018-04-02</th>\n",
       "      <th>2018-04-03</th>\n",
       "      <th>2018-04-04</th>\n",
       "      <th>2018-04-05</th>\n",
       "      <th>2018-04-06</th>\n",
       "      <th>2018-04-07</th>\n",
       "    </tr>\n",
       "  </thead>\n",
       "  <tbody>\n",
       "    <tr>\n",
       "      <th>Boston</th>\n",
       "      <td>1</td>\n",
       "      <td>NaN</td>\n",
       "      <td>NaN</td>\n",
       "      <td>NaN</td>\n",
       "      <td>1</td>\n",
       "      <td>NaN</td>\n",
       "      <td>1</td>\n",
       "      <td>NaN</td>\n",
       "      <td>NaN</td>\n",
       "      <td>NaN</td>\n",
       "      <td>...</td>\n",
       "      <td>1</td>\n",
       "      <td>NaN</td>\n",
       "      <td>1</td>\n",
       "      <td>1</td>\n",
       "      <td>NaN</td>\n",
       "      <td>1</td>\n",
       "      <td>NaN</td>\n",
       "      <td>1</td>\n",
       "      <td>NaN</td>\n",
       "      <td>1.0</td>\n",
       "    </tr>\n",
       "    <tr>\n",
       "      <th>Vegas</th>\n",
       "      <td>1</td>\n",
       "      <td>NaN</td>\n",
       "      <td>1</td>\n",
       "      <td>NaN</td>\n",
       "      <td>NaN</td>\n",
       "      <td>NaN</td>\n",
       "      <td>1</td>\n",
       "      <td>NaN</td>\n",
       "      <td>NaN</td>\n",
       "      <td>1</td>\n",
       "      <td>...</td>\n",
       "      <td>NaN</td>\n",
       "      <td>1</td>\n",
       "      <td>1</td>\n",
       "      <td>NaN</td>\n",
       "      <td>NaN</td>\n",
       "      <td>1</td>\n",
       "      <td>NaN</td>\n",
       "      <td>1</td>\n",
       "      <td>NaN</td>\n",
       "      <td>1.0</td>\n",
       "    </tr>\n",
       "    <tr>\n",
       "      <th>Buffalo</th>\n",
       "      <td>1</td>\n",
       "      <td>NaN</td>\n",
       "      <td>1</td>\n",
       "      <td>NaN</td>\n",
       "      <td>NaN</td>\n",
       "      <td>1</td>\n",
       "      <td>1</td>\n",
       "      <td>NaN</td>\n",
       "      <td>NaN</td>\n",
       "      <td>1</td>\n",
       "      <td>...</td>\n",
       "      <td>1</td>\n",
       "      <td>NaN</td>\n",
       "      <td>1</td>\n",
       "      <td>NaN</td>\n",
       "      <td>1</td>\n",
       "      <td>NaN</td>\n",
       "      <td>1</td>\n",
       "      <td>NaN</td>\n",
       "      <td>1</td>\n",
       "      <td>1.0</td>\n",
       "    </tr>\n",
       "    <tr>\n",
       "      <th>Anaheim</th>\n",
       "      <td>1</td>\n",
       "      <td>NaN</td>\n",
       "      <td>NaN</td>\n",
       "      <td>NaN</td>\n",
       "      <td>NaN</td>\n",
       "      <td>1</td>\n",
       "      <td>NaN</td>\n",
       "      <td>NaN</td>\n",
       "      <td>NaN</td>\n",
       "      <td>1</td>\n",
       "      <td>...</td>\n",
       "      <td>NaN</td>\n",
       "      <td>1</td>\n",
       "      <td>NaN</td>\n",
       "      <td>1</td>\n",
       "      <td>NaN</td>\n",
       "      <td>NaN</td>\n",
       "      <td>1</td>\n",
       "      <td>NaN</td>\n",
       "      <td>1</td>\n",
       "      <td>1.0</td>\n",
       "    </tr>\n",
       "    <tr>\n",
       "      <th>NY Islanders</th>\n",
       "      <td>1</td>\n",
       "      <td>NaN</td>\n",
       "      <td>NaN</td>\n",
       "      <td>NaN</td>\n",
       "      <td>1</td>\n",
       "      <td>NaN</td>\n",
       "      <td>1</td>\n",
       "      <td>NaN</td>\n",
       "      <td>NaN</td>\n",
       "      <td>1</td>\n",
       "      <td>...</td>\n",
       "      <td>NaN</td>\n",
       "      <td>1</td>\n",
       "      <td>1</td>\n",
       "      <td>NaN</td>\n",
       "      <td>NaN</td>\n",
       "      <td>1</td>\n",
       "      <td>NaN</td>\n",
       "      <td>1</td>\n",
       "      <td>NaN</td>\n",
       "      <td>1.0</td>\n",
       "    </tr>\n",
       "  </tbody>\n",
       "</table>\n",
       "<p>5 rows × 175 columns</p>\n",
       "</div>"
      ],
      "text/plain": [
       "             2017-10-15 2017-10-16 2017-10-17 2017-10-18 2017-10-19  \\\n",
       "Boston                1        NaN        NaN        NaN          1   \n",
       "Vegas                 1        NaN          1        NaN        NaN   \n",
       "Buffalo               1        NaN          1        NaN        NaN   \n",
       "Anaheim               1        NaN        NaN        NaN        NaN   \n",
       "NY Islanders          1        NaN        NaN        NaN          1   \n",
       "\n",
       "             2017-10-20 2017-10-21 2017-10-22 2017-10-23 2017-10-24  \\\n",
       "Boston              NaN          1        NaN        NaN        NaN   \n",
       "Vegas               NaN          1        NaN        NaN          1   \n",
       "Buffalo               1          1        NaN        NaN          1   \n",
       "Anaheim               1        NaN        NaN        NaN          1   \n",
       "NY Islanders        NaN          1        NaN        NaN          1   \n",
       "\n",
       "                ...     2018-03-29 2018-03-30 2018-03-31 2018-04-01  \\\n",
       "Boston          ...              1        NaN          1          1   \n",
       "Vegas           ...            NaN          1          1        NaN   \n",
       "Buffalo         ...              1        NaN          1        NaN   \n",
       "Anaheim         ...            NaN          1        NaN          1   \n",
       "NY Islanders    ...            NaN          1          1        NaN   \n",
       "\n",
       "             2018-04-02 2018-04-03 2018-04-04 2018-04-05 2018-04-06 2018-04-07  \n",
       "Boston              NaN          1        NaN          1        NaN        1.0  \n",
       "Vegas               NaN          1        NaN          1        NaN        1.0  \n",
       "Buffalo               1        NaN          1        NaN          1        1.0  \n",
       "Anaheim             NaN        NaN          1        NaN          1        1.0  \n",
       "NY Islanders        NaN          1        NaN          1        NaN        1.0  \n",
       "\n",
       "[5 rows x 175 columns]"
      ]
     },
     "execution_count": 10,
     "metadata": {},
     "output_type": "execute_result"
    }
   ],
   "source": [
    "df.head()"
   ]
  },
  {
   "cell_type": "code",
   "execution_count": 11,
   "metadata": {
    "collapsed": true
   },
   "outputs": [],
   "source": [
    "df.fillna(0, inplace=True)"
   ]
  },
  {
   "cell_type": "code",
   "execution_count": 12,
   "metadata": {
    "collapsed": true
   },
   "outputs": [],
   "source": [
    "import seaborn as sns\n",
    "import matplotlib\n",
    "%matplotlib inline"
   ]
  },
  {
   "cell_type": "code",
   "execution_count": 13,
   "metadata": {
    "collapsed": true
   },
   "outputs": [],
   "source": [
    "octdatelist = pd.date_range(start=\"2017-10-16\", end=\"2017-10-31\").tolist()\n",
    "novdatelist = pd.date_range(\"2017-11-01\", periods=30).tolist()\n",
    "decdatelist = pd.date_range(\"2017-12-01\", periods=31).tolist()\n",
    "jandatelist = pd.date_range(\"2018-01-01\", periods=31).tolist()\n",
    "febdatelist = pd.date_range(\"2018-02-01\", periods=28).tolist()\n",
    "mardatelist = pd.date_range(\"2018-03-01\", periods=31).tolist()\n",
    "aprdatelist = pd.date_range(\"2018-04-01\", periods=7).tolist()"
   ]
  },
  {
   "cell_type": "code",
   "execution_count": 14,
   "metadata": {
    "collapsed": true
   },
   "outputs": [],
   "source": [
    "octdates = list((dobj.date().strftime('%Y-%m-%d') for dobj in octdatelist))\n",
    "novdates = list((dobj.date().strftime('%Y-%m-%d') for dobj in novdatelist))\n",
    "decdates = list((dobj.date().strftime('%Y-%m-%d') for dobj in decdatelist))\n",
    "jandates = list((dobj.date().strftime('%Y-%m-%d') for dobj in jandatelist))\n",
    "febdates = list((dobj.date().strftime('%Y-%m-%d') for dobj in febdatelist))\n",
    "mardates = list((dobj.date().strftime('%Y-%m-%d') for dobj in mardatelist))\n",
    "aprdates = list((dobj.date().strftime('%Y-%m-%d') for dobj in aprdatelist))"
   ]
  },
  {
   "cell_type": "code",
   "execution_count": 15,
   "metadata": {
    "collapsed": true
   },
   "outputs": [],
   "source": [
    "df_consec = df\n",
    "for team in list_of_all_teams:\n",
    "    df_consec.loc[team] = df.loc[team] * (df.loc[team].groupby((df.loc[team] != df.loc[team].shift()).cumsum()).cumcount() + 1)"
   ]
  },
  {
   "cell_type": "code",
   "execution_count": 16,
   "metadata": {},
   "outputs": [
    {
     "name": "stdout",
     "output_type": "stream",
     "text": [
      "0.0    97\n",
      "1.0    65\n",
      "2.0    13\n",
      "Name: Boston, dtype: int64\n",
      "0.0    97\n",
      "1.0    67\n",
      "2.0    11\n",
      "Name: Vegas, dtype: int64\n",
      "0.0    98\n",
      "1.0    62\n",
      "2.0    15\n",
      "Name: Buffalo, dtype: int64\n",
      "0.0    98\n",
      "1.0    66\n",
      "2.0    11\n",
      "Name: Anaheim, dtype: int64\n",
      "0.0    98\n",
      "1.0    63\n",
      "2.0    14\n",
      "Name: NY Islanders, dtype: int64\n",
      "0.0    97\n",
      "1.0    65\n",
      "2.0    13\n",
      "Name: Los Angeles, dtype: int64\n",
      "0.0    98\n",
      "1.0    65\n",
      "2.0    12\n",
      "Name: Tampa Bay, dtype: int64\n",
      "0.0    98\n",
      "1.0    66\n",
      "2.0    11\n",
      "Name: Detroit, dtype: int64\n",
      "0.0    99\n",
      "1.0    59\n",
      "2.0    17\n",
      "Name: Pittsburgh, dtype: int64\n",
      "0.0    99\n",
      "1.0    67\n",
      "2.0     9\n",
      "Name: NY Rangers, dtype: int64\n",
      "0.0    97\n",
      "1.0    64\n",
      "2.0    14\n",
      "Name: Florida, dtype: int64\n",
      "0.0    98\n",
      "1.0    63\n",
      "2.0    14\n",
      "Name: Philadelphia, dtype: int64\n",
      "0.0    98\n",
      "1.0    63\n",
      "2.0    14\n",
      "Name: Toronto, dtype: int64\n",
      "0.0    99\n",
      "1.0    63\n",
      "2.0    13\n",
      "Name: Washington, dtype: int64\n",
      "0.0    98\n",
      "1.0    62\n",
      "2.0    15\n",
      "Name: New Jersey, dtype: int64\n",
      "0.0    97\n",
      "1.0    68\n",
      "2.0    10\n",
      "Name: Vancouver, dtype: int64\n",
      "0.0    98\n",
      "1.0    59\n",
      "2.0    18\n",
      "Name: Ottawa, dtype: int64\n",
      "0.0    99\n",
      "1.0    66\n",
      "2.0    10\n",
      "Name: Colorado, dtype: int64\n",
      "0.0    98\n",
      "1.0    66\n",
      "2.0    11\n",
      "Name: Nashville, dtype: int64\n",
      "0.0    98\n",
      "1.0    62\n",
      "2.0    15\n",
      "Name: Columbus, dtype: int64\n",
      "0.0    98\n",
      "1.0    68\n",
      "2.0     9\n",
      "Name: Winnipeg, dtype: int64\n",
      "0.0    98\n",
      "1.0    64\n",
      "2.0    13\n",
      "Name: Arizona, dtype: int64\n",
      "0.0    98\n",
      "1.0    66\n",
      "2.0    11\n",
      "Name: Dallas, dtype: int64\n",
      "0.0    96\n",
      "1.0    61\n",
      "2.0    18\n",
      "Name: Carolina, dtype: int64\n",
      "0.0    97\n",
      "1.0    67\n",
      "2.0    11\n",
      "Name: Edmonton, dtype: int64\n",
      "0.0    98\n",
      "1.0    64\n",
      "2.0    13\n",
      "Name: Montr̩al, dtype: int64\n",
      "0.0    97\n",
      "1.0    64\n",
      "2.0    14\n",
      "Name: San Jose, dtype: int64\n",
      "0.0    99\n",
      "1.0    60\n",
      "2.0    16\n",
      "Name: Chicago, dtype: int64\n",
      "0.0    99\n",
      "1.0    61\n",
      "2.0    15\n",
      "Name: St. Louis, dtype: int64\n",
      "0.0    99\n",
      "1.0    65\n",
      "2.0    11\n",
      "Name: Calgary, dtype: int64\n",
      "0.0    97\n",
      "1.0    63\n",
      "2.0    15\n",
      "Name: Minnesota, dtype: int64\n"
     ]
    }
   ],
   "source": [
    "for team in list_of_all_teams:\n",
    "    print(df_consec.loc[team].value_counts())"
   ]
  },
  {
   "cell_type": "code",
   "execution_count": 21,
   "metadata": {
    "scrolled": true
   },
   "outputs": [
    {
     "data": {
      "text/plain": [
       "Buffalo         9.0\n",
       "Pittsburgh      9.0\n",
       "St. Louis       8.0\n",
       "Chicago         8.0\n",
       "Tampa Bay       8.0\n",
       "Carolina        8.0\n",
       "Washington      8.0\n",
       "Los Angeles     8.0\n",
       "Vancouver       7.0\n",
       "Ottawa          7.0\n",
       "Florida         7.0\n",
       "Toronto         7.0\n",
       "New Jersey      7.0\n",
       "Calgary         7.0\n",
       "Columbus        7.0\n",
       "Nashville       7.0\n",
       "Anaheim         7.0\n",
       "Dallas          7.0\n",
       "Montr̩al        7.0\n",
       "San Jose        7.0\n",
       "Detroit         7.0\n",
       "NY Islanders    6.0\n",
       "Minnesota       6.0\n",
       "NY Rangers      6.0\n",
       "Philadelphia    6.0\n",
       "Colorado        6.0\n",
       "Winnipeg        6.0\n",
       "Arizona         6.0\n",
       "Edmonton        6.0\n",
       "Vegas           5.0\n",
       "Boston          5.0\n",
       "dtype: float64"
      ]
     },
     "execution_count": 21,
     "metadata": {},
     "output_type": "execute_result"
    }
   ],
   "source": [
    "next_10_days = df_consec.loc[['Carolina', 'Buffalo', 'Calgary', 'Tampa Bay', 'Montr̩al', 'Toronto', 'Columbus', 'New Jersey', 'Minnesota', 'Philadelphia', 'Pittsburgh', 'St. Louis']][dates[3:15]]\n",
    "df_consec[dates[:15]].sum(axis=1).sort_values(ascending=False)"
   ]
  },
  {
   "cell_type": "code",
   "execution_count": 18,
   "metadata": {},
   "outputs": [
    {
     "data": {
      "text/plain": [
       "St. Louis       9.0\n",
       "Pittsburgh      9.0\n",
       "Tampa Bay       9.0\n",
       "Arizona         9.0\n",
       "Vancouver       8.0\n",
       "Columbus        8.0\n",
       "Toronto         8.0\n",
       "Washington      8.0\n",
       "Detroit         8.0\n",
       "Ottawa          8.0\n",
       "Los Angeles     8.0\n",
       "Buffalo         8.0\n",
       "Florida         8.0\n",
       "Dallas          8.0\n",
       "Carolina        8.0\n",
       "Montr̩al        8.0\n",
       "San Jose        8.0\n",
       "Chicago         8.0\n",
       "Vegas           7.0\n",
       "NY Rangers      7.0\n",
       "Minnesota       7.0\n",
       "Philadelphia    7.0\n",
       "New Jersey      7.0\n",
       "Calgary         7.0\n",
       "Nashville       7.0\n",
       "Winnipeg        7.0\n",
       "Colorado        6.0\n",
       "NY Islanders    6.0\n",
       "Anaheim         6.0\n",
       "Edmonton        6.0\n",
       "Boston          5.0\n",
       "dtype: float64"
      ]
     },
     "execution_count": 18,
     "metadata": {},
     "output_type": "execute_result"
    }
   ],
   "source": [
    "df_consec[octdates].sum(axis=1).sort_values(ascending=False)"
   ]
  },
  {
   "cell_type": "code",
   "execution_count": 1,
   "metadata": {},
   "outputs": [
    {
     "ename": "NameError",
     "evalue": "name 'df_consec' is not defined",
     "output_type": "error",
     "traceback": [
      "\u001b[0;31m---------------------------------------------------------------------------\u001b[0m",
      "\u001b[0;31mNameError\u001b[0m                                 Traceback (most recent call last)",
      "\u001b[0;32m<ipython-input-1-1c17ca04f51a>\u001b[0m in \u001b[0;36m<module>\u001b[0;34m()\u001b[0m\n\u001b[0;32m----> 1\u001b[0;31m \u001b[0mdf_consec\u001b[0m\u001b[0;34m[\u001b[0m\u001b[0mnovdates\u001b[0m\u001b[0;34m]\u001b[0m\u001b[0;34m.\u001b[0m\u001b[0msum\u001b[0m\u001b[0;34m(\u001b[0m\u001b[0maxis\u001b[0m\u001b[0;34m=\u001b[0m\u001b[0;36m1\u001b[0m\u001b[0;34m)\u001b[0m\u001b[0;34m.\u001b[0m\u001b[0msort_values\u001b[0m\u001b[0;34m(\u001b[0m\u001b[0mascending\u001b[0m\u001b[0;34m=\u001b[0m\u001b[0;32mFalse\u001b[0m\u001b[0;34m)\u001b[0m\u001b[0;34m\u001b[0m\u001b[0m\n\u001b[0m",
      "\u001b[0;31mNameError\u001b[0m: name 'df_consec' is not defined"
     ]
    }
   ],
   "source": [
    "df_consec[novdates].sum(axis=1).sort_values(ascending=False)"
   ]
  },
  {
   "cell_type": "code",
   "execution_count": null,
   "metadata": {
    "collapsed": true
   },
   "outputs": [],
   "source": [
    "for team in list_of_all_teams:\n",
    "    print(df_consec.loc[team, dates[3:15]].value_counts())"
   ]
  },
  {
   "cell_type": "code",
   "execution_count": null,
   "metadata": {
    "collapsed": true
   },
   "outputs": [],
   "source": []
  }
 ],
 "metadata": {
  "kernelspec": {
   "display_name": "Python 3",
   "language": "python",
   "name": "python3"
  },
  "language_info": {
   "codemirror_mode": {
    "name": "ipython",
    "version": 3
   },
   "file_extension": ".py",
   "mimetype": "text/x-python",
   "name": "python",
   "nbconvert_exporter": "python",
   "pygments_lexer": "ipython3",
   "version": "3.6.2"
  }
 },
 "nbformat": 4,
 "nbformat_minor": 2
}
